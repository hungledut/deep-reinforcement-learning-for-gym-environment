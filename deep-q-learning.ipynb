{
 "cells": [
  {
   "cell_type": "code",
   "execution_count": 9,
   "id": "f0742b43-e5f7-4a44-82a0-350cb9f296d2",
   "metadata": {},
   "outputs": [],
   "source": [
    "import gymnasium as gym\n",
    "import math\n",
    "import random\n",
    "import matplotlib\n",
    "import matplotlib.pyplot as plt\n",
    "from collections import namedtuple, deque\n",
    "from itertools import count\n",
    "\n",
    "import torch\n",
    "import torch.nn as nn\n",
    "import torch.optim as optim\n",
    "import torch.nn.functional as F"
   ]
  },
  {
   "cell_type": "code",
   "execution_count": 10,
   "id": "43fb0886-3741-42c4-a5c4-f93f1bc1afe5",
   "metadata": {},
   "outputs": [
    {
     "name": "stdout",
     "output_type": "stream",
     "text": [
      "cpu\n"
     ]
    }
   ],
   "source": [
    "device = torch.device('cuda' if torch.cuda.is_available() else 'cpu')\n",
    "print(device)"
   ]
  },
  {
   "cell_type": "markdown",
   "id": "8c2ccafb-d8c0-4b9a-849e-3e1ad72854f1",
   "metadata": {},
   "source": [
    "### Initialize the environment"
   ]
  },
  {
   "cell_type": "code",
   "execution_count": 11,
   "id": "88abad17-a4c2-4736-a32c-dcc808fec45a",
   "metadata": {},
   "outputs": [
    {
     "name": "stdout",
     "output_type": "stream",
     "text": [
      "State Space: 4\n",
      "Action Space: 2\n"
     ]
    }
   ],
   "source": [
    "env = gym.make(\"CartPole-v1\")\n",
    "state_space = env.observation_space.shape[0]\n",
    "print('State Space:', state_space)\n",
    "action_space = env.action_space.n\n",
    "print('Action Space:', action_space)"
   ]
  },
  {
   "cell_type": "markdown",
   "id": "2e525e23-2393-44f7-ae4b-af03452ef832",
   "metadata": {},
   "source": [
    "### Policy"
   ]
  },
  {
   "cell_type": "code",
   "execution_count": 12,
   "id": "a1913e2a-7c5a-4a5d-9748-db26e6c13281",
   "metadata": {},
   "outputs": [],
   "source": [
    "# Neural network model for approximating Q-values\n",
    "class DQN(nn.Module):\n",
    "    def __init__(self, input_dim, output_dim):\n",
    "        super(DQN, self).__init__()\n",
    "        self.fc1 = nn.Linear(input_dim, 128)\n",
    "        self.fc2 = nn.Linear(128, 128)\n",
    "        self.fc3 = nn.Linear(128, output_dim)\n",
    "    \n",
    "    def forward(self, x):\n",
    "        x = torch.relu(self.fc1(x))\n",
    "        x = torch.relu(self.fc2(x))\n",
    "        return self.fc3(x)"
   ]
  },
  {
   "cell_type": "code",
   "execution_count": 13,
   "id": "b8eea77b-146d-48a3-a6de-d8bb8dbbe462",
   "metadata": {},
   "outputs": [],
   "source": [
    "# Hyperparameters\n",
    "learning_rate = 0.001\n",
    "gamma = 0.99\n",
    "epsilon = 1.0\n",
    "epsilon_min = 0.01\n",
    "epsilon_decay = 0.995\n",
    "batch_size = 64\n",
    "target_update_freq = 1000\n",
    "memory_size = 10000\n",
    "episodes = 1000"
   ]
  },
  {
   "cell_type": "code",
   "execution_count": 14,
   "id": "f16f8c60-c00d-462b-ad4f-1b9eef65eaaa",
   "metadata": {},
   "outputs": [
    {
     "data": {
      "text/plain": [
       "DQN(\n",
       "  (fc1): Linear(in_features=4, out_features=128, bias=True)\n",
       "  (fc2): Linear(in_features=128, out_features=128, bias=True)\n",
       "  (fc3): Linear(in_features=128, out_features=2, bias=True)\n",
       ")"
      ]
     },
     "execution_count": 14,
     "metadata": {},
     "output_type": "execute_result"
    }
   ],
   "source": [
    "policy_net = DQN(state_space, action_space)\n",
    "target_net = DQN(state_space, action_space)\n",
    "target_net.load_state_dict(policy_net.state_dict())\n",
    "target_net.eval()"
   ]
  },
  {
   "cell_type": "code",
   "execution_count": 15,
   "id": "bb3405ec-1e70-464d-996f-1c0134888d97",
   "metadata": {},
   "outputs": [],
   "source": [
    "optimizer = optim.Adam(policy_net.parameters(), lr=learning_rate)\n",
    "memory = deque(maxlen=memory_size)"
   ]
  },
  {
   "cell_type": "code",
   "execution_count": 35,
   "id": "06a08e3f-cc7a-4cb7-9029-13d56fbfef8a",
   "metadata": {},
   "outputs": [
    {
     "name": "stdout",
     "output_type": "stream",
     "text": [
      "(array([ 0.04829558,  1.1200991 , -0.04728703, -1.5701338 ], dtype=float32), array([ 0.01521045,  0.7295517 , -0.00232801, -0.97726893], dtype=float32), array([-0.11358315, -0.38030204,  0.01270118,  0.21851869], dtype=float32), array([-0.00588045, -0.38892335, -0.08138931,  0.41017956], dtype=float32), array([-0.10777884,  0.00621561, -0.0765155 , -0.28545588], dtype=float32), array([-0.03028067, -0.73708695,  0.0211808 ,  0.8589384 ], dtype=float32), array([-0.04415254, -0.3935623 , -0.02700252,  0.5838919 ], dtype=float32), (array([ 0.04938969, -0.04817974, -0.04296335,  0.02158311], dtype=float32), {}), array([ 0.06679881,  0.41780132, -0.10112336, -0.66942036], dtype=float32), array([ 0.04653406,  0.03147021, -0.063288  , -0.04887924], dtype=float32), array([-0.00227635,  0.33974987,  0.0194707 , -0.40172693], dtype=float32), array([-0.02126083, -0.38464928, -0.07481311,  0.3153507 ], dtype=float32), array([ 0.15360172,  1.1247257 , -0.19886842, -1.6994737 ], dtype=float32), array([-0.01354807,  0.38697654, -0.06086662, -0.66187525], dtype=float32), (array([ 0.01306736,  0.0240388 , -0.02198235, -0.00345858], dtype=float32), {}), array([-0.14716679,  0.7846976 ,  0.00188844, -1.4114009 ], dtype=float32), (array([ 0.017336  , -0.02293103,  0.03367419, -0.0121061 ], dtype=float32), {}), (array([ 0.02854623,  0.02889337, -0.03902636,  0.00806241], dtype=float32), {}), (array([ 0.0225741 ,  0.04338109, -0.04218552,  0.01294089], dtype=float32), {}), array([ 0.05171226,  0.42341366, -0.07148238, -0.6730744 ], dtype=float32), array([ 0.09701262,  1.5116395 , -0.11623336, -2.1932151 ], dtype=float32), array([-0.01847701,  0.34649166,  0.03265436, -0.55073434], dtype=float32), array([-0.06751861, -0.3812229 , -0.02888044,  0.23893464], dtype=float32), (array([-0.01559718, -0.00157022, -0.00807968, -0.02996872], dtype=float32), {}), array([-0.01421569, -0.43522397,  0.02469814,  0.6475981 ], dtype=float32), array([-0.01587013, -0.0482886 ,  0.02980274,  0.13515538], dtype=float32), (array([-0.02066314, -0.04262624,  0.03785609,  0.01020802], dtype=float32), {}), array([-0.02772926, -0.0458875 ,  0.04490598,  0.08221637], dtype=float32), array([-0.17102857,  0.00678889,  0.05874708, -0.29789218], dtype=float32), (array([ 0.01408791, -0.00408881,  0.01283121,  0.02265923], dtype=float32), {}), array([-0.13270126, -0.7709614 ,  0.02737517,  0.8131942 ], dtype=float32), array([ 0.02927958,  0.7809937 , -0.14369039, -1.2677747 ], dtype=float32), array([-0.13054983, -0.76938796, -0.06735911,  0.78057796], dtype=float32), array([-0.11968179,  0.39478564, -0.04870214, -0.83382255], dtype=float32), array([-0.16520804, -1.1579213 , -0.03072094,  1.3273317 ], dtype=float32), (array([-0.00286219,  0.01812377, -0.02060521,  0.01320706], dtype=float32), {}), (array([0.00123908, 0.02065861, 0.03295384, 0.02310777], dtype=float32), {}), array([ 0.03361515,  0.4202065 , -0.04479859, -0.60135645], dtype=float32), array([ 0.04437101, -0.73928195, -0.07274374,  0.9103331 ], dtype=float32), array([ 0.01793751,  0.4148982 , -0.02811143, -0.60255045], dtype=float32), (array([-0.04658033,  0.02759261, -0.0265378 , -0.02006017], dtype=float32), {}), array([-0.11271227, -1.5199313 ,  0.12625527,  2.093387  ], dtype=float32), (array([-0.03240086, -0.00668634, -0.0284097 , -0.00010117], dtype=float32), {}), array([-0.16963664, -1.1333723 ,  0.20496808,  1.6061567 ], dtype=float32), array([-0.00417714, -0.04990739,  0.018374  ,  0.17083268], dtype=float32), array([-0.08666148, -0.7706952 , -0.01365435,  0.80736154], dtype=float32), array([ 0.01091841, -1.1277212 , -0.03095119,  1.4543947 ], dtype=float32), array([-0.02875796,  0.38434643, -0.03444393, -0.60311687], dtype=float32), (array([-0.01190305, -0.04380314, -0.01260124,  0.03826743], dtype=float32), {}), array([ 0.06476761,  0.03553325, -0.0930184 , -0.13898683], dtype=float32), array([-0.01727657, -0.00470717, -0.05293585, -0.0438174 ], dtype=float32), array([-0.02567575,  0.34298918,  0.04263096, -0.47360992], dtype=float32), (array([-0.01486842, -0.01669767, -0.04500081,  0.01244072], dtype=float32), {}), array([ 0.06231545, -0.3517701 , -0.0933389 ,  0.38395098], dtype=float32), array([-0.16687226,  0.39536986,  0.04135956, -0.84708035], dtype=float32), array([-0.15964499, -0.3817431 ,  0.05422397,  0.25062707], dtype=float32), array([-0.0599943 , -0.3926959 , -0.00446181,  0.56449157], dtype=float32), array([ 0.03844351,  0.80604404, -0.05824151, -1.208985  ], dtype=float32), array([-0.0019535 , -0.00124425, -0.08188336, -0.12053261], dtype=float32), array([-0.01751387,  0.00334294, -0.07132596, -0.22185788], dtype=float32), array([-0.06799907,  0.3874079 ,  0.00565559, -0.59784   ], dtype=float32), array([-0.01390802,  0.3410358 ,  0.02954628, -0.4302316 ], dtype=float32), (array([-0.04008802, -0.00429952, -0.03343591,  0.01986026], dtype=float32), {}), array([-0.04052642, -0.772729  , -0.05683541,  0.8538739 ], dtype=float32))\n"
     ]
    },
    {
     "ename": "ValueError",
     "evalue": "expected sequence of length 4 at dim 1 (got 2)",
     "output_type": "error",
     "traceback": [
      "\u001b[1;31m---------------------------------------------------------------------------\u001b[0m",
      "\u001b[1;31mValueError\u001b[0m                                Traceback (most recent call last)",
      "Cell \u001b[1;32mIn[35], line 61\u001b[0m\n\u001b[0;32m     58\u001b[0m episode_reward \u001b[38;5;241m+\u001b[39m\u001b[38;5;241m=\u001b[39m reward\n\u001b[0;32m     60\u001b[0m \u001b[38;5;66;03m# Optimize model\u001b[39;00m\n\u001b[1;32m---> 61\u001b[0m \u001b[43moptimize_model\u001b[49m\u001b[43m(\u001b[49m\u001b[43m)\u001b[49m\n\u001b[0;32m     63\u001b[0m \u001b[38;5;66;03m# Update target network periodically\u001b[39;00m\n\u001b[0;32m     64\u001b[0m \u001b[38;5;28;01mif\u001b[39;00m steps_done \u001b[38;5;241m%\u001b[39m target_update_freq \u001b[38;5;241m==\u001b[39m \u001b[38;5;241m0\u001b[39m:\n",
      "Cell \u001b[1;32mIn[35], line 19\u001b[0m, in \u001b[0;36moptimize_model\u001b[1;34m()\u001b[0m\n\u001b[0;32m     16\u001b[0m state_batch, action_batch, reward_batch, next_state_batch, done_batch \u001b[38;5;241m=\u001b[39m \u001b[38;5;28mzip\u001b[39m(\u001b[38;5;241m*\u001b[39mbatch)\n\u001b[0;32m     18\u001b[0m \u001b[38;5;28mprint\u001b[39m(state_batch)\n\u001b[1;32m---> 19\u001b[0m state_batch \u001b[38;5;241m=\u001b[39m \u001b[43mtorch\u001b[49m\u001b[38;5;241;43m.\u001b[39;49m\u001b[43mFloatTensor\u001b[49m\u001b[43m(\u001b[49m\u001b[43mstate_batch\u001b[49m\u001b[43m)\u001b[49m\n\u001b[0;32m     20\u001b[0m action_batch \u001b[38;5;241m=\u001b[39m torch\u001b[38;5;241m.\u001b[39mLongTensor(action_batch)\u001b[38;5;241m.\u001b[39munsqueeze(\u001b[38;5;241m1\u001b[39m)\n\u001b[0;32m     21\u001b[0m reward_batch \u001b[38;5;241m=\u001b[39m torch\u001b[38;5;241m.\u001b[39mFloatTensor(reward_batch)\n",
      "\u001b[1;31mValueError\u001b[0m: expected sequence of length 4 at dim 1 (got 2)"
     ]
    }
   ],
   "source": [
    "# Function to choose action using epsilon-greedy policy\n",
    "def select_action(state, epsilon):\n",
    "    if random.random() < epsilon:\n",
    "        return env.action_space.sample()  # Explore\n",
    "    else:\n",
    "        state = torch.FloatTensor(state).unsqueeze(0)\n",
    "        q_values = policy_net(state)\n",
    "        return torch.argmax(q_values).item()  # Exploit\n",
    "\n",
    "# Function to optimize the model using experience replay\n",
    "def optimize_model():\n",
    "    if len(memory) < batch_size:\n",
    "        return\n",
    "    \n",
    "    batch = random.sample(memory, batch_size)\n",
    "    state_batch, action_batch, reward_batch, next_state_batch, done_batch = zip(*batch)\n",
    "\n",
    "    print(state_batch)\n",
    "    state_batch = torch.FloatTensor(state_batch)\n",
    "    action_batch = torch.LongTensor(action_batch).unsqueeze(1)\n",
    "    reward_batch = torch.FloatTensor(reward_batch)\n",
    "    next_state_batch = torch.FloatTensor(next_state_batch)\n",
    "    done_batch = torch.FloatTensor(done_batch)\n",
    "\n",
    "    # Compute Q-values for current states\n",
    "    q_values = policy_net(state_batch).gather(1, action_batch).squeeze()\n",
    "\n",
    "    # Compute target Q-values using the target network\n",
    "    with torch.no_grad():\n",
    "        max_next_q_values = target_net(next_state_batch).max(1)[0]\n",
    "        target_q_values = reward_batch + gamma * max_next_q_values * (1 - done_batch)\n",
    "\n",
    "    loss = nn.MSELoss()(q_values, target_q_values)\n",
    "\n",
    "    optimizer.zero_grad()\n",
    "    loss.backward()\n",
    "    optimizer.step()\n",
    "\n",
    "# Main training loop\n",
    "rewards_per_episode = []\n",
    "steps_done = 0\n",
    "\n",
    "for episode in range(episodes):\n",
    "    state = env.reset()\n",
    "    episode_reward = 0\n",
    "    done = False\n",
    "    \n",
    "    while not done:\n",
    "        # Select action\n",
    "        action = select_action(state, epsilon)\n",
    "        next_state, reward, done, _ , _ = env.step(action)\n",
    "        \n",
    "        # Store transition in memory\n",
    "        memory.append((state, action, reward, next_state, done))\n",
    "        \n",
    "        # Update state\n",
    "        state = next_state\n",
    "        episode_reward += reward\n",
    "        \n",
    "        # Optimize model\n",
    "        optimize_model()\n",
    "\n",
    "        # Update target network periodically\n",
    "        if steps_done % target_update_freq == 0:\n",
    "            target_net.load_state_dict(policy_net.state_dict())\n",
    "\n",
    "        steps_done += 1\n",
    "\n",
    "    # Decay epsilon\n",
    "    epsilon = max(epsilon_min, epsilon_decay * epsilon)\n",
    "    \n",
    "    rewards_per_episode.append(episode_reward)\n"
   ]
  },
  {
   "cell_type": "code",
   "execution_count": 21,
   "id": "87ffcb65-778e-4810-a20e-0c54ab873437",
   "metadata": {},
   "outputs": [
    {
     "data": {
      "image/png": "[encoded data removed]",
      "text/plain": [
       "<Figure size 640x480 with 1 Axes>"
      ]
     },
     "metadata": {},
     "output_type": "display_data"
    }
   ],
   "source": [
    "# Plotting the rewards per episode\n",
    "import matplotlib.pyplot as plt\n",
    "plt.plot(rewards_per_episode)\n",
    "plt.xlabel('Episode')\n",
    "plt.ylabel('Reward')\n",
    "plt.title('DQN on CartPole')\n",
    "plt.show()"
   ]
  },
  {
   "cell_type": "markdown",
   "id": "be068db4-a0f2-46c5-97fb-646fcddd604b",
   "metadata": {},
   "source": [
    "![RL overview 1](images/deep-qlearning.jpg)"
   ]
  }
 ],
 "metadata": {
  "kernelspec": {
   "display_name": "Python 3 (ipykernel)",
   "language": "python",
   "name": "python3"
  },
  "language_info": {
   "codemirror_mode": {
    "name": "ipython",
    "version": 3
   },
   "file_extension": ".py",
   "mimetype": "text/x-python",
   "name": "python",
   "nbconvert_exporter": "python",
   "pygments_lexer": "ipython3",
   "version": "3.11.9"
  }
 },
 "nbformat": 4,
 "nbformat_minor": 5
}
