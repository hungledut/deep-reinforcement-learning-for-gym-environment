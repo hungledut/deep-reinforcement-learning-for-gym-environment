{
 "cells": [
  {
   "cell_type": "code",
   "execution_count": 1,
   "id": "89072195-9b83-4bac-b3e8-028ebf4508ee",
   "metadata": {},
   "outputs": [],
   "source": [
    "import numpy as np\n",
    "import gymnasium as gym\n",
    "import os\n",
    "import tqdm\n",
    "import matplotlib.pyplot as plt\n",
    "import torch\n",
    "import torch.nn as nn\n",
    "import torch.nn.functional as F\n",
    "import torch.optim as optim\n",
    "from torch.distributions import Categorical\n",
    "from collections import deque\n",
    "from IPython.display import Image\n",
    "from matplotlib import animation"
   ]
  },
  {
   "cell_type": "code",
   "execution_count": 2,
   "id": "b6f3ad98-653e-444c-9d51-35e2a4102d14",
   "metadata": {},
   "outputs": [
    {
     "name": "stdout",
     "output_type": "stream",
     "text": [
      "cpu\n"
     ]
    }
   ],
   "source": [
    "device = torch.device('cuda' if torch.cuda.is_available() else 'cpu')\n",
    "print(device)"
   ]
  },
  {
   "cell_type": "markdown",
   "id": "1aeb3f79-36b7-4c3b-a9df-3139b8fb7a70",
   "metadata": {},
   "source": [
    "### Initialize the environment"
   ]
  },
  {
   "cell_type": "code",
   "execution_count": 3,
   "id": "0b2ade44-9fee-4b3c-8b07-0ad1cf9386b2",
   "metadata": {},
   "outputs": [
    {
     "name": "stdout",
     "output_type": "stream",
     "text": [
      "State Space: 8\n",
      "Action Space: 4\n"
     ]
    }
   ],
   "source": [
    "# Initialize the environment\n",
    "env = gym.make('LunarLander-v3') #render_mode=\"human\"\n",
    "\n",
    "state_space = env.observation_space.shape[0]\n",
    "print('State Space:', state_space)\n",
    "action_space = env.action_space.n\n",
    "print('Action Space:', action_space)"
   ]
  },
  {
   "cell_type": "markdown",
   "id": "e62dd53b-3509-4537-b66d-7dc3afe9e408",
   "metadata": {},
   "source": [
    "### Policy"
   ]
  },
  {
   "cell_type": "code",
   "execution_count": 4,
   "id": "b26a4bde-bb92-4668-bba2-e637af58a788",
   "metadata": {},
   "outputs": [],
   "source": [
    "# Policy Network\n",
    "class Policy(nn.Module):\n",
    "    def __init__(self , s_size , a_size , h_size ):\n",
    "        super (Policy , self ).__init__ ()\n",
    "        self.fc1 = nn.Linear( s_size , h_size )\n",
    "        self.fc2 = nn.Linear( h_size , h_size * 2)\n",
    "        self.fc3 = nn.Linear( h_size * 2, a_size )\n",
    "    def forward(self , x):\n",
    "        x = F.relu(self.fc1(x))\n",
    "        x = F.relu(self.fc2(x))\n",
    "        x = self.fc3(x)\n",
    "        return F.softmax(x, dim =1)\n",
    "    def act(self, state ):\n",
    "        state = torch.from_numpy(state).float().unsqueeze(0)  #.to(device)\n",
    "        probs = self.forward(state).cpu()\n",
    "        m = Categorical(probs)\n",
    "        # Random action\n",
    "        action = m.sample()\n",
    "        return action.item() , m.log_prob(action)"
   ]
  },
  {
   "cell_type": "markdown",
   "id": "e452031f-a4ae-4974-8cdc-cad4dcbb9c5b",
   "metadata": {},
   "source": [
    "### REINFORCE \n",
    "Initialize the policy parameter $\\theta$ at random. <br>\n",
    "**for** each episode $\\{s_1, a_1, r_2, s_2, a_2, \\dots, s_T\\} $ **do** <br>\n",
    "&nbsp; &nbsp; &nbsp; &nbsp;     **for** $t=1, 2, … , T $ **do** <br>\n",
    "&nbsp; &nbsp; &nbsp; &nbsp; &nbsp; &nbsp; &nbsp; &nbsp; Calculate the Return $G_t$ <br>\n",
    "&nbsp; &nbsp; &nbsp; &nbsp; &nbsp; &nbsp; &nbsp; &nbsp; Update policy parameters $\\theta \\leftarrow \\theta + \\alpha \\gamma^t G_t \\nabla_\\theta \\log \\pi_\\theta(A_t \\vert S_t)$ <br>\n",
    "&nbsp; &nbsp; &nbsp; &nbsp; **end for** <br>\n",
    "**end for**"
   ]
  },
  {
   "cell_type": "markdown",
   "id": "d41e9b04-95da-446d-8649-681b9ca28d89",
   "metadata": {},
   "source": [
    "Visually Explained: https://towardsdatascience.com/reinforcement-learning-explained-visually-part-6-policy-gradients-step-by-step-f9f448e73754"
   ]
  },
  {
   "cell_type": "code",
   "execution_count": 9,
   "id": "ffb2409c-f6ce-4705-ae91-eae3f41a9e5d",
   "metadata": {},
   "outputs": [],
   "source": [
    "# Training Function\n",
    "def reinforce(\n",
    "        policy ,\n",
    "        optimizer ,\n",
    "        n_training_episodes ,\n",
    "        max_steps ,\n",
    "        gamma ,\n",
    "        print_every\n",
    "        ):\n",
    "    scores_deque = deque( maxlen =100)\n",
    "    scores = []\n",
    "\n",
    "    # Each Episode\n",
    "    for i_episode in range(1, n_training_episodes + 1):\n",
    "        saved_log_probs = []\n",
    "        rewards = []\n",
    "        state = env.reset()[0]\n",
    "\n",
    "        # t=1, 2, … , T\n",
    "        for t in range(max_steps):\n",
    "            action , log_prob = policy.act(state)\n",
    "            saved_log_probs.append(log_prob)\n",
    "            state , reward , done , _, info = env.step(action)\n",
    "            rewards.append(reward)\n",
    "            if done :\n",
    "                break\n",
    "        scores_deque.append(sum( rewards ))\n",
    "        scores.append(sum( rewards ))\n",
    "\n",
    "        returns = deque( maxlen = max_steps )\n",
    "        n_steps = len( rewards )\n",
    "\n",
    "        # List of discounted Returns\n",
    "        for t in range(n_steps)[:: -1]:\n",
    "            disc_return_t = returns[0] if len( returns ) > 0 else 0\n",
    "            returns.appendleft( gamma*disc_return_t + rewards[t])\n",
    "\n",
    "        # eps = np.finfo(np.float32 ).eps.item()\n",
    "\n",
    "        # returns = torch.tensor( returns )\n",
    "        # returns = ( returns - returns.mean()) / ( returns.std() + eps)\n",
    "\n",
    "        # Total loss\n",
    "        policy_loss = []\n",
    "        for log_prob , disc_return in zip( saved_log_probs , returns ):\n",
    "            policy_loss.append(-log_prob * disc_return )\n",
    "        policy_loss = torch.cat( policy_loss ).sum()\n",
    "\n",
    "        optimizer.zero_grad()\n",
    "        policy_loss.backward()\n",
    "        optimizer.step()\n",
    "\n",
    "        if i_episode % print_every == 0:\n",
    "            print(\" Episode {}\\ tAverage Score : {: f}\".format( i_episode , np.mean(scores_deque )))\n",
    "    return scores\n"
   ]
  },
  {
   "cell_type": "code",
   "execution_count": 10,
   "id": "8fc0c6e5-4c91-4667-bec7-44bc9c2153cb",
   "metadata": {},
   "outputs": [],
   "source": [
    "# Hyperparameter\n",
    "h_size = 128\n",
    "lr = 0.001\n",
    "n_training_episodes = 10000\n",
    "max_steps = 10\n",
    "gamma = 0.99"
   ]
  },
  {
   "cell_type": "code",
   "execution_count": 11,
   "id": "39a5ed0d-52c1-4a61-97e3-19ceb32b2d7b",
   "metadata": {},
   "outputs": [],
   "source": [
    "policy = Policy (\n",
    "        s_size = state_space ,\n",
    "        a_size = action_space ,\n",
    "        h_size = h_size ,\n",
    "        ).to( device )\n",
    "optimizer = optim.Adam( policy.parameters() , lr=lr)"
   ]
  },
  {
   "cell_type": "code",
   "execution_count": 12,
   "id": "e1eebf12-e226-47a9-b16f-4207edd8860a",
   "metadata": {},
   "outputs": [
    {
     "name": "stdout",
     "output_type": "stream",
     "text": [
      " Episode 100\\ tAverage Score : -4.751031\n",
      " Episode 200\\ tAverage Score : -0.640685\n",
      " Episode 300\\ tAverage Score :  4.441471\n",
      " Episode 400\\ tAverage Score :  6.772474\n",
      " Episode 500\\ tAverage Score :  7.592727\n",
      " Episode 600\\ tAverage Score :  7.059146\n",
      " Episode 700\\ tAverage Score :  8.212329\n",
      " Episode 800\\ tAverage Score :  7.666400\n",
      " Episode 900\\ tAverage Score :  7.848225\n",
      " Episode 1000\\ tAverage Score :  8.522178\n",
      " Episode 1100\\ tAverage Score :  7.310069\n",
      " Episode 1200\\ tAverage Score :  8.385255\n",
      " Episode 1300\\ tAverage Score :  8.528028\n",
      " Episode 1400\\ tAverage Score :  8.417153\n",
      " Episode 1500\\ tAverage Score :  8.338837\n",
      " Episode 1600\\ tAverage Score :  9.290818\n",
      " Episode 1700\\ tAverage Score :  8.955695\n",
      " Episode 1800\\ tAverage Score :  8.808278\n",
      " Episode 1900\\ tAverage Score :  7.715430\n",
      " Episode 2000\\ tAverage Score :  8.086434\n",
      " Episode 2100\\ tAverage Score :  8.465726\n",
      " Episode 2200\\ tAverage Score :  7.788565\n",
      " Episode 2300\\ tAverage Score :  8.422952\n",
      " Episode 2400\\ tAverage Score :  9.035543\n",
      " Episode 2500\\ tAverage Score :  7.702876\n",
      " Episode 2600\\ tAverage Score :  9.099897\n",
      " Episode 2700\\ tAverage Score :  8.349785\n",
      " Episode 2800\\ tAverage Score :  7.966164\n",
      " Episode 2900\\ tAverage Score :  6.403021\n",
      " Episode 3000\\ tAverage Score :  7.826563\n",
      " Episode 3100\\ tAverage Score :  8.235104\n",
      " Episode 3200\\ tAverage Score :  8.422322\n",
      " Episode 3300\\ tAverage Score :  9.326198\n",
      " Episode 3400\\ tAverage Score :  7.027077\n",
      " Episode 3500\\ tAverage Score :  7.395777\n",
      " Episode 3600\\ tAverage Score :  9.675621\n",
      " Episode 3700\\ tAverage Score :  7.782809\n",
      " Episode 3800\\ tAverage Score :  8.274140\n",
      " Episode 3900\\ tAverage Score :  8.615656\n",
      " Episode 4000\\ tAverage Score :  6.524719\n",
      " Episode 4100\\ tAverage Score :  7.114703\n",
      " Episode 4200\\ tAverage Score :  7.306722\n",
      " Episode 4300\\ tAverage Score :  8.932050\n",
      " Episode 4400\\ tAverage Score :  8.132981\n",
      " Episode 4500\\ tAverage Score :  8.040965\n",
      " Episode 4600\\ tAverage Score :  9.061614\n",
      " Episode 4700\\ tAverage Score :  7.939796\n",
      " Episode 4800\\ tAverage Score :  8.615239\n",
      " Episode 4900\\ tAverage Score :  9.304017\n",
      " Episode 5000\\ tAverage Score :  8.211483\n",
      " Episode 5100\\ tAverage Score :  8.344070\n",
      " Episode 5200\\ tAverage Score :  8.764545\n",
      " Episode 5300\\ tAverage Score :  8.514618\n",
      " Episode 5400\\ tAverage Score :  8.142844\n",
      " Episode 5500\\ tAverage Score :  8.537016\n",
      " Episode 5600\\ tAverage Score :  8.942857\n",
      " Episode 5700\\ tAverage Score :  7.833859\n",
      " Episode 5800\\ tAverage Score :  8.266984\n",
      " Episode 5900\\ tAverage Score :  9.651599\n",
      " Episode 6000\\ tAverage Score :  7.288900\n",
      " Episode 6100\\ tAverage Score :  7.467693\n",
      " Episode 6200\\ tAverage Score :  7.860839\n",
      " Episode 6300\\ tAverage Score :  6.727732\n",
      " Episode 6400\\ tAverage Score :  7.420509\n",
      " Episode 6500\\ tAverage Score :  8.148275\n",
      " Episode 6600\\ tAverage Score :  9.112396\n",
      " Episode 6700\\ tAverage Score :  8.100756\n",
      " Episode 6800\\ tAverage Score :  8.220117\n",
      " Episode 6900\\ tAverage Score :  8.413915\n",
      " Episode 7000\\ tAverage Score :  8.335632\n",
      " Episode 7100\\ tAverage Score :  9.203650\n",
      " Episode 7200\\ tAverage Score :  10.286474\n",
      " Episode 7300\\ tAverage Score :  9.279981\n",
      " Episode 7400\\ tAverage Score :  10.217900\n",
      " Episode 7500\\ tAverage Score :  9.026043\n",
      " Episode 7600\\ tAverage Score :  9.194383\n",
      " Episode 7700\\ tAverage Score :  9.278955\n",
      " Episode 7800\\ tAverage Score :  8.516857\n",
      " Episode 7900\\ tAverage Score :  8.492649\n",
      " Episode 8000\\ tAverage Score :  9.961133\n",
      " Episode 8100\\ tAverage Score :  9.099591\n",
      " Episode 8200\\ tAverage Score :  9.702718\n",
      " Episode 8300\\ tAverage Score :  8.423810\n",
      " Episode 8400\\ tAverage Score :  9.287574\n",
      " Episode 8500\\ tAverage Score :  9.928711\n",
      " Episode 8600\\ tAverage Score :  8.678022\n",
      " Episode 8700\\ tAverage Score :  10.041089\n",
      " Episode 8800\\ tAverage Score :  9.017996\n",
      " Episode 8900\\ tAverage Score :  9.961376\n",
      " Episode 9000\\ tAverage Score :  8.016835\n",
      " Episode 9100\\ tAverage Score :  8.928054\n",
      " Episode 9200\\ tAverage Score :  8.598633\n",
      " Episode 9300\\ tAverage Score :  9.165274\n",
      " Episode 9400\\ tAverage Score :  9.395205\n",
      " Episode 9500\\ tAverage Score :  9.610326\n",
      " Episode 9600\\ tAverage Score :  9.972714\n",
      " Episode 9700\\ tAverage Score :  8.509993\n",
      " Episode 9800\\ tAverage Score :  9.390667\n",
      " Episode 9900\\ tAverage Score :  10.363401\n",
      " Episode 10000\\ tAverage Score :  9.842280\n"
     ]
    }
   ],
   "source": [
    "scores = reinforce (\n",
    "        policy ,\n",
    "        optimizer ,\n",
    "        n_training_episodes ,\n",
    "        max_steps ,\n",
    "        gamma ,\n",
    "        print_every = 100)"
   ]
  },
  {
   "cell_type": "code",
   "execution_count": null,
   "id": "166e015c-e312-49ea-aafa-af6276c7a7a9",
   "metadata": {},
   "outputs": [],
   "source": []
  }
 ],
 "metadata": {
  "kernelspec": {
   "display_name": "Python 3 (ipykernel)",
   "language": "python",
   "name": "python3"
  },
  "language_info": {
   "codemirror_mode": {
    "name": "ipython",
    "version": 3
   },
   "file_extension": ".py",
   "mimetype": "text/x-python",
   "name": "python",
   "nbconvert_exporter": "python",
   "pygments_lexer": "ipython3",
   "version": "3.11.9"
  }
 },
 "nbformat": 4,
 "nbformat_minor": 5
}
