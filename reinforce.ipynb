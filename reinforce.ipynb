{
 "cells": [
  {
   "cell_type": "code",
   "execution_count": 2,
   "id": "89072195-9b83-4bac-b3e8-028ebf4508ee",
   "metadata": {},
   "outputs": [],
   "source": [
    "import numpy as np\n",
    "import gymnasium as gym\n",
    "import os\n",
    "import tqdm\n",
    "import matplotlib.pyplot as plt\n",
    "import torch\n",
    "import torch.nn as nn\n",
    "import torch.nn.functional as F\n",
    "import torch.optim as optim\n",
    "from torch.distributions import Categorical\n",
    "from collections import deque\n",
    "from IPython.display import Image\n",
    "from matplotlib import animation"
   ]
  },
  {
   "cell_type": "code",
   "execution_count": 3,
   "id": "b6f3ad98-653e-444c-9d51-35e2a4102d14",
   "metadata": {},
   "outputs": [
    {
     "name": "stdout",
     "output_type": "stream",
     "text": [
      "cpu\n"
     ]
    }
   ],
   "source": [
    "device = torch.device('cuda' if torch.cuda.is_available() else 'cpu')\n",
    "print(device)"
   ]
  },
  {
   "cell_type": "markdown",
   "id": "1aeb3f79-36b7-4c3b-a9df-3139b8fb7a70",
   "metadata": {},
   "source": [
    "### Initialize the environment"
   ]
  },
  {
   "cell_type": "code",
   "execution_count": 4,
   "id": "0b2ade44-9fee-4b3c-8b07-0ad1cf9386b2",
   "metadata": {},
   "outputs": [
    {
     "name": "stdout",
     "output_type": "stream",
     "text": [
      "State Space: 8\n",
      "Action Space: 4\n"
     ]
    }
   ],
   "source": [
    "# Initialize the environment\n",
    "env = gym.make('LunarLander-v3') #render_mode=\"human\"\n",
    "\n",
    "state_space = env.observation_space.shape[0]\n",
    "print('State Space:', state_space)\n",
    "action_space = env.action_space.n\n",
    "print('Action Space:', action_space)"
   ]
  },
  {
   "cell_type": "markdown",
   "id": "e62dd53b-3509-4537-b66d-7dc3afe9e408",
   "metadata": {},
   "source": [
    "### Policy"
   ]
  },
  {
   "cell_type": "code",
   "execution_count": 6,
   "id": "b26a4bde-bb92-4668-bba2-e637af58a788",
   "metadata": {},
   "outputs": [],
   "source": [
    "# Policy Network\n",
    "class Policy(nn.Module):\n",
    "    def __init__(self , s_size , a_size , h_size ):\n",
    "        super (Policy , self ).__init__ ()\n",
    "        self.fc1 = nn.Linear( s_size , h_size )\n",
    "        self.fc2 = nn.Linear( h_size , h_size * 2)\n",
    "        self.fc3 = nn.Linear( h_size * 2, a_size )\n",
    "    def forward(self , x):\n",
    "        x = F.relu(self.fc1(x))\n",
    "        x = F.relu(self.fc2(x))\n",
    "        x = self.fc3(x)\n",
    "        return F.softmax(x, dim =1)\n",
    "    def act(self, state ):\n",
    "        state = torch.from_numpy(state).float().unsqueeze(0)  #.to(device)\n",
    "        probs = self.forward(state).cpu()\n",
    "        m = Categorical(probs)\n",
    "        # Random action\n",
    "        action = m.sample()\n",
    "        return action.item() , m.log_prob(action)"
   ]
  },
  {
   "cell_type": "markdown",
   "id": "e452031f-a4ae-4974-8cdc-cad4dcbb9c5b",
   "metadata": {},
   "source": [
    "### REINFORCE \n",
    "Initialize the policy parameter $\\theta$ at random. <br>\n",
    "**for** each episode $\\{s_1, a_1, r_2, s_2, a_2, \\dots, s_T\\} $ **do** <br>\n",
    "&nbsp; &nbsp; &nbsp; &nbsp;     **for** $t=1, 2, … , T $ **do** <br>\n",
    "&nbsp; &nbsp; &nbsp; &nbsp; &nbsp; &nbsp; &nbsp; &nbsp; Calculate the Return $G_t$ <br>\n",
    "&nbsp; &nbsp; &nbsp; &nbsp; &nbsp; &nbsp; &nbsp; &nbsp; Update policy parameters $\\theta \\leftarrow \\theta + \\alpha \\gamma^t G_t \\nabla_\\theta \\log \\pi_\\theta(A_t \\vert S_t)$ <br>\n",
    "&nbsp; &nbsp; &nbsp; &nbsp; **end for** <br>\n",
    "**end for**"
   ]
  },
  {
   "cell_type": "markdown",
   "id": "d41e9b04-95da-446d-8649-681b9ca28d89",
   "metadata": {},
   "source": [
    "Visually Explained: https://towardsdatascience.com/reinforcement-learning-explained-visually-part-6-policy-gradients-step-by-step-f9f448e73754"
   ]
  },
  {
   "cell_type": "code",
   "execution_count": 12,
   "id": "ffb2409c-f6ce-4705-ae91-eae3f41a9e5d",
   "metadata": {},
   "outputs": [],
   "source": [
    "# Training Function\n",
    "def reinforce(\n",
    "        policy ,\n",
    "        optimizer ,\n",
    "        n_training_episodes ,\n",
    "        max_steps ,\n",
    "        gamma ,\n",
    "        print_every\n",
    "        ):\n",
    "    scores_deque = deque( maxlen =100)\n",
    "    scores = []\n",
    "\n",
    "    # Each Episode\n",
    "    for i_episode in range(1, n_training_episodes + 1):\n",
    "        saved_log_probs = []\n",
    "        rewards = []\n",
    "        state = env.reset()[0]\n",
    "\n",
    "        # t=1, 2, … , T\n",
    "        for t in range(max_steps):\n",
    "            action , log_prob = policy.act(state)\n",
    "            saved_log_probs.append(log_prob)\n",
    "            state , reward , done , _, info = env.step(action)\n",
    "            rewards.append(reward)\n",
    "            if done :\n",
    "                break\n",
    "        scores_deque.append(sum( rewards ))\n",
    "        scores.append(sum( rewards ))\n",
    "\n",
    "        returns = deque( maxlen = max_steps )\n",
    "        n_steps = len( rewards )\n",
    "\n",
    "        # List of discounted Returns\n",
    "        for t in range(n_steps)[:: -1]:\n",
    "            disc_return_t = returns[0] if len( returns ) > 0 else 0\n",
    "            returns.appendleft( gamma*disc_return_t + rewards[t])\n",
    "\n",
    "        eps = np.finfo(np.float32 ).eps.item()\n",
    "\n",
    "        returns = torch.tensor( returns )\n",
    "        returns = ( returns - returns.mean()) / ( returns.std() + eps)\n",
    "\n",
    "        # Total loss\n",
    "        policy_loss = []\n",
    "        for log_prob , disc_return in zip( saved_log_probs , returns ):\n",
    "            policy_loss.append(-log_prob * disc_return )\n",
    "        policy_loss = torch.cat( policy_loss ).sum()\n",
    "\n",
    "        optimizer.zero_grad()\n",
    "        policy_loss.backward()\n",
    "        optimizer.step()\n",
    "\n",
    "        if i_episode % print_every == 0:\n",
    "            print(\" Episode {}\\ tAverage Score : {: f}\".format( i_episode , np.mean(scores_deque )))\n",
    "    return scores\n"
   ]
  },
  {
   "cell_type": "code",
   "execution_count": 17,
   "id": "8fc0c6e5-4c91-4667-bec7-44bc9c2153cb",
   "metadata": {},
   "outputs": [],
   "source": [
    "# Hyperparameter\n",
    "h_size = 128\n",
    "lr = 0.001\n",
    "n_training_episodes = 10000\n",
    "max_steps = 10\n",
    "gamma = 0.99"
   ]
  },
  {
   "cell_type": "code",
   "execution_count": 18,
   "id": "39a5ed0d-52c1-4a61-97e3-19ceb32b2d7b",
   "metadata": {},
   "outputs": [],
   "source": [
    "policy = Policy (\n",
    "        s_size = state_space ,\n",
    "        a_size = action_space ,\n",
    "        h_size = h_size ,\n",
    "        ).to( device )\n",
    "optimizer = optim.Adam( policy.parameters() , lr=lr)"
   ]
  },
  {
   "cell_type": "code",
   "execution_count": 19,
   "id": "e1eebf12-e226-47a9-b16f-4207edd8860a",
   "metadata": {},
   "outputs": [
    {
     "name": "stdout",
     "output_type": "stream",
     "text": [
      " Episode 100\\ tAverage Score : -6.552787\n",
      " Episode 200\\ tAverage Score :  1.124283\n",
      " Episode 300\\ tAverage Score :  5.369712\n",
      " Episode 400\\ tAverage Score :  8.096942\n",
      " Episode 500\\ tAverage Score :  6.389607\n",
      " Episode 600\\ tAverage Score :  8.509075\n",
      " Episode 700\\ tAverage Score :  7.315725\n",
      " Episode 800\\ tAverage Score :  7.333497\n",
      " Episode 900\\ tAverage Score :  8.363511\n",
      " Episode 1000\\ tAverage Score :  8.120340\n",
      " Episode 1100\\ tAverage Score :  7.459752\n",
      " Episode 1200\\ tAverage Score :  7.431425\n",
      " Episode 1300\\ tAverage Score :  7.472951\n",
      " Episode 1400\\ tAverage Score :  8.398130\n",
      " Episode 1500\\ tAverage Score :  9.744566\n",
      " Episode 1600\\ tAverage Score :  8.730456\n",
      " Episode 1700\\ tAverage Score :  7.127023\n",
      " Episode 1800\\ tAverage Score :  6.767623\n",
      " Episode 1900\\ tAverage Score :  8.039899\n",
      " Episode 2000\\ tAverage Score :  8.467052\n",
      " Episode 2100\\ tAverage Score :  9.913705\n",
      " Episode 2200\\ tAverage Score :  8.912401\n",
      " Episode 2300\\ tAverage Score :  7.508261\n",
      " Episode 2400\\ tAverage Score :  8.590199\n",
      " Episode 2500\\ tAverage Score :  8.599326\n",
      " Episode 2600\\ tAverage Score :  9.501324\n",
      " Episode 2700\\ tAverage Score :  8.968389\n",
      " Episode 2800\\ tAverage Score :  7.995822\n",
      " Episode 2900\\ tAverage Score :  8.701304\n",
      " Episode 3000\\ tAverage Score :  8.573900\n",
      " Episode 3100\\ tAverage Score :  8.971711\n",
      " Episode 3200\\ tAverage Score :  8.396275\n",
      " Episode 3300\\ tAverage Score :  7.389374\n",
      " Episode 3400\\ tAverage Score :  8.923891\n",
      " Episode 3500\\ tAverage Score :  8.534212\n",
      " Episode 3600\\ tAverage Score :  9.032309\n",
      " Episode 3700\\ tAverage Score :  9.018981\n",
      " Episode 3800\\ tAverage Score :  9.631859\n",
      " Episode 3900\\ tAverage Score :  8.417634\n",
      " Episode 4000\\ tAverage Score :  9.389981\n",
      " Episode 4100\\ tAverage Score :  8.500471\n",
      " Episode 4200\\ tAverage Score :  9.275836\n",
      " Episode 4300\\ tAverage Score :  7.579644\n",
      " Episode 4400\\ tAverage Score :  8.509064\n",
      " Episode 4500\\ tAverage Score :  6.419699\n",
      " Episode 4600\\ tAverage Score :  5.116542\n",
      " Episode 4700\\ tAverage Score :  7.446727\n",
      " Episode 4800\\ tAverage Score :  9.371210\n",
      " Episode 4900\\ tAverage Score :  8.457164\n",
      " Episode 5000\\ tAverage Score :  9.118162\n",
      " Episode 5100\\ tAverage Score :  9.163729\n",
      " Episode 5200\\ tAverage Score :  8.006801\n",
      " Episode 5300\\ tAverage Score :  8.884824\n",
      " Episode 5400\\ tAverage Score :  7.609399\n",
      " Episode 5500\\ tAverage Score :  8.647061\n",
      " Episode 5600\\ tAverage Score :  9.311604\n",
      " Episode 5700\\ tAverage Score :  8.815537\n",
      " Episode 5800\\ tAverage Score :  8.620210\n",
      " Episode 5900\\ tAverage Score :  8.635402\n",
      " Episode 6000\\ tAverage Score :  7.015188\n",
      " Episode 6100\\ tAverage Score :  9.575528\n",
      " Episode 6200\\ tAverage Score :  8.768917\n",
      " Episode 6300\\ tAverage Score :  8.330506\n",
      " Episode 6400\\ tAverage Score :  8.496343\n",
      " Episode 6500\\ tAverage Score :  8.963667\n",
      " Episode 6600\\ tAverage Score :  8.086340\n",
      " Episode 6700\\ tAverage Score :  8.024243\n",
      " Episode 6800\\ tAverage Score :  8.757686\n",
      " Episode 6900\\ tAverage Score :  9.074900\n",
      " Episode 7000\\ tAverage Score :  8.200398\n",
      " Episode 7100\\ tAverage Score :  9.531355\n",
      " Episode 7200\\ tAverage Score :  8.936523\n",
      " Episode 7300\\ tAverage Score :  8.928357\n",
      " Episode 7400\\ tAverage Score :  8.026599\n",
      " Episode 7500\\ tAverage Score :  8.229770\n",
      " Episode 7600\\ tAverage Score :  9.993667\n",
      " Episode 7700\\ tAverage Score :  7.880354\n",
      " Episode 7800\\ tAverage Score :  9.868202\n",
      " Episode 7900\\ tAverage Score :  8.319966\n",
      " Episode 8000\\ tAverage Score :  8.922132\n",
      " Episode 8100\\ tAverage Score :  8.990353\n",
      " Episode 8200\\ tAverage Score :  7.717757\n",
      " Episode 8300\\ tAverage Score :  7.982646\n",
      " Episode 8400\\ tAverage Score :  7.890505\n",
      " Episode 8500\\ tAverage Score :  9.729398\n",
      " Episode 8600\\ tAverage Score :  8.510227\n",
      " Episode 8700\\ tAverage Score :  9.262445\n",
      " Episode 8800\\ tAverage Score :  8.399320\n",
      " Episode 8900\\ tAverage Score :  7.671260\n",
      " Episode 9000\\ tAverage Score :  9.226186\n",
      " Episode 9100\\ tAverage Score :  10.035644\n",
      " Episode 9200\\ tAverage Score :  7.853928\n",
      " Episode 9300\\ tAverage Score :  7.341875\n",
      " Episode 9400\\ tAverage Score :  8.402154\n",
      " Episode 9500\\ tAverage Score :  8.105054\n",
      " Episode 9600\\ tAverage Score :  7.858393\n",
      " Episode 9700\\ tAverage Score :  7.479631\n",
      " Episode 9800\\ tAverage Score :  8.160514\n",
      " Episode 9900\\ tAverage Score :  7.870943\n",
      " Episode 10000\\ tAverage Score :  6.932617\n"
     ]
    }
   ],
   "source": [
    "scores = reinforce (\n",
    "        policy ,\n",
    "        optimizer ,\n",
    "        n_training_episodes ,\n",
    "        max_steps ,\n",
    "        gamma ,\n",
    "        print_every = 100)"
   ]
  },
  {
   "cell_type": "code",
   "execution_count": null,
   "id": "166e015c-e312-49ea-aafa-af6276c7a7a9",
   "metadata": {},
   "outputs": [],
   "source": []
  }
 ],
 "metadata": {
  "kernelspec": {
   "display_name": "Python 3 (ipykernel)",
   "language": "python",
   "name": "python3"
  },
  "language_info": {
   "codemirror_mode": {
    "name": "ipython",
    "version": 3
   },
   "file_extension": ".py",
   "mimetype": "text/x-python",
   "name": "python",
   "nbconvert_exporter": "python",
   "pygments_lexer": "ipython3",
   "version": "3.11.9"
  }
 },
 "nbformat": 4,
 "nbformat_minor": 5
}
